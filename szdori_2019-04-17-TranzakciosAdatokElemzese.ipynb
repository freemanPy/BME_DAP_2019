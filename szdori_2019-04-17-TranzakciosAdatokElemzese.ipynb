{
 "cells": [
  {
   "cell_type": "code",
   "execution_count": 1,
   "metadata": {
    "collapsed": true
   },
   "outputs": [],
   "source": [
    "import pandas as pd\n",
    "import numpy as np\n",
    "import matplotlib.pyplot as plt\n",
    "%matplotlib inline"
   ]
  },
  {
   "cell_type": "markdown",
   "metadata": {},
   "source": [
    "# Tranzakciós adatok elemzése"
   ]
  },
  {
   "cell_type": "code",
   "execution_count": 2,
   "metadata": {
    "collapsed": true
   },
   "outputs": [],
   "source": [
    "odf=pd.read_csv(\"../data/DataSet_Tesco5000_withDaynum.csv\", sep=\";\")"
   ]
  },
  {
   "cell_type": "code",
   "execution_count": 3,
   "metadata": {},
   "outputs": [
    {
     "data": {
      "text/html": [
       "<div>\n",
       "<style scoped>\n",
       "    .dataframe tbody tr th:only-of-type {\n",
       "        vertical-align: middle;\n",
       "    }\n",
       "\n",
       "    .dataframe tbody tr th {\n",
       "        vertical-align: top;\n",
       "    }\n",
       "\n",
       "    .dataframe thead th {\n",
       "        text-align: right;\n",
       "    }\n",
       "</style>\n",
       "<table border=\"1\" class=\"dataframe\">\n",
       "  <thead>\n",
       "    <tr style=\"text-align: right;\">\n",
       "      <th></th>\n",
       "      <th>customer_id</th>\n",
       "      <th>visit_date</th>\n",
       "      <th>visit_spend</th>\n",
       "      <th>daynum</th>\n",
       "    </tr>\n",
       "  </thead>\n",
       "  <tbody>\n",
       "    <tr>\n",
       "      <th>0</th>\n",
       "      <td>2</td>\n",
       "      <td>2010-04-01</td>\n",
       "      <td>5.97</td>\n",
       "      <td>0</td>\n",
       "    </tr>\n",
       "    <tr>\n",
       "      <th>1</th>\n",
       "      <td>2</td>\n",
       "      <td>2010-04-06</td>\n",
       "      <td>12.71</td>\n",
       "      <td>5</td>\n",
       "    </tr>\n",
       "    <tr>\n",
       "      <th>2</th>\n",
       "      <td>2</td>\n",
       "      <td>2010-04-07</td>\n",
       "      <td>34.52</td>\n",
       "      <td>6</td>\n",
       "    </tr>\n",
       "    <tr>\n",
       "      <th>3</th>\n",
       "      <td>2</td>\n",
       "      <td>2010-04-12</td>\n",
       "      <td>7.89</td>\n",
       "      <td>11</td>\n",
       "    </tr>\n",
       "    <tr>\n",
       "      <th>4</th>\n",
       "      <td>2</td>\n",
       "      <td>2010-04-14</td>\n",
       "      <td>17.17</td>\n",
       "      <td>13</td>\n",
       "    </tr>\n",
       "  </tbody>\n",
       "</table>\n",
       "</div>"
      ],
      "text/plain": [
       "   customer_id  visit_date  visit_spend  daynum\n",
       "0            2  2010-04-01         5.97       0\n",
       "1            2  2010-04-06        12.71       5\n",
       "2            2  2010-04-07        34.52       6\n",
       "3            2  2010-04-12         7.89      11\n",
       "4            2  2010-04-14        17.17      13"
      ]
     },
     "execution_count": 3,
     "metadata": {},
     "output_type": "execute_result"
    }
   ],
   "source": [
    "odf.head()"
   ]
  },
  {
   "cell_type": "code",
   "execution_count": 38,
   "metadata": {
    "collapsed": true
   },
   "outputs": [],
   "source": [
    "odf['hetnapja']=(odf['daynum']-3) % 7"
   ]
  },
  {
   "cell_type": "code",
   "execution_count": 34,
   "metadata": {},
   "outputs": [],
   "source": [
    "def stat_hozzaado(cust_df, valtozo_neve, aggreg_mode, startnap, endnap,trx_df):\n",
    "    c1= trx_df[trx_df['daynum']>=startnap]\n",
    "    c2=c1[c1['daynum']<endnap]\n",
    "    stat= c2.groupby('customer_id', as_index=False)['visit_spend'].agg(aggreg_mode)\n",
    "    stat.columns=['customer_id', valtozo_neve]\n",
    "    \n",
    "    cust_df=cust_df.merge(stat, on='customer_id', how='left')\n",
    "    cust_df[valtozo_neve]=cust_df[valtozo_neve].fillna(0)\n",
    "    return cust_df"
   ]
  },
  {
   "cell_type": "code",
   "execution_count": 43,
   "metadata": {},
   "outputs": [
    {
     "data": {
      "text/html": [
       "<div>\n",
       "<style scoped>\n",
       "    .dataframe tbody tr th:only-of-type {\n",
       "        vertical-align: middle;\n",
       "    }\n",
       "\n",
       "    .dataframe tbody tr th {\n",
       "        vertical-align: top;\n",
       "    }\n",
       "\n",
       "    .dataframe thead th {\n",
       "        text-align: right;\n",
       "    }\n",
       "</style>\n",
       "<table border=\"1\" class=\"dataframe\">\n",
       "  <thead>\n",
       "    <tr style=\"text-align: right;\">\n",
       "      <th></th>\n",
       "      <th>customer_id</th>\n",
       "      <th>target</th>\n",
       "      <th>last_4day_trx_num</th>\n",
       "      <th>last_4day_trx_sum</th>\n",
       "      <th>napi_betevo</th>\n",
       "      <th>4w_p_0</th>\n",
       "      <th>4w_p_1</th>\n",
       "      <th>4w_p_2</th>\n",
       "      <th>4w_p_3</th>\n",
       "      <th>4w_p_4</th>\n",
       "      <th>4w_p_5</th>\n",
       "      <th>4w_p_6</th>\n",
       "    </tr>\n",
       "  </thead>\n",
       "  <tbody>\n",
       "    <tr>\n",
       "      <th>0</th>\n",
       "      <td>2</td>\n",
       "      <td>1.0</td>\n",
       "      <td>1.0</td>\n",
       "      <td>1.50</td>\n",
       "      <td>4.879347</td>\n",
       "      <td>0.00</td>\n",
       "      <td>0.25</td>\n",
       "      <td>0.50</td>\n",
       "      <td>0.75</td>\n",
       "      <td>0.25</td>\n",
       "      <td>0.75</td>\n",
       "      <td>0.0</td>\n",
       "    </tr>\n",
       "    <tr>\n",
       "      <th>1</th>\n",
       "      <td>3</td>\n",
       "      <td>1.0</td>\n",
       "      <td>1.0</td>\n",
       "      <td>4.73</td>\n",
       "      <td>9.906382</td>\n",
       "      <td>0.75</td>\n",
       "      <td>0.25</td>\n",
       "      <td>0.25</td>\n",
       "      <td>0.00</td>\n",
       "      <td>0.50</td>\n",
       "      <td>0.00</td>\n",
       "      <td>1.0</td>\n",
       "    </tr>\n",
       "    <tr>\n",
       "      <th>2</th>\n",
       "      <td>4</td>\n",
       "      <td>1.0</td>\n",
       "      <td>1.0</td>\n",
       "      <td>80.00</td>\n",
       "      <td>25.187638</td>\n",
       "      <td>0.25</td>\n",
       "      <td>0.50</td>\n",
       "      <td>0.25</td>\n",
       "      <td>0.00</td>\n",
       "      <td>0.25</td>\n",
       "      <td>0.25</td>\n",
       "      <td>0.0</td>\n",
       "    </tr>\n",
       "    <tr>\n",
       "      <th>3</th>\n",
       "      <td>5</td>\n",
       "      <td>1.0</td>\n",
       "      <td>2.0</td>\n",
       "      <td>58.45</td>\n",
       "      <td>9.089196</td>\n",
       "      <td>0.00</td>\n",
       "      <td>0.50</td>\n",
       "      <td>0.25</td>\n",
       "      <td>0.25</td>\n",
       "      <td>0.00</td>\n",
       "      <td>0.50</td>\n",
       "      <td>0.0</td>\n",
       "    </tr>\n",
       "    <tr>\n",
       "      <th>4</th>\n",
       "      <td>6</td>\n",
       "      <td>0.0</td>\n",
       "      <td>0.0</td>\n",
       "      <td>0.00</td>\n",
       "      <td>8.461658</td>\n",
       "      <td>0.00</td>\n",
       "      <td>1.00</td>\n",
       "      <td>0.00</td>\n",
       "      <td>0.00</td>\n",
       "      <td>0.00</td>\n",
       "      <td>0.00</td>\n",
       "      <td>0.0</td>\n",
       "    </tr>\n",
       "  </tbody>\n",
       "</table>\n",
       "</div>"
      ],
      "text/plain": [
       "   customer_id  target  last_4day_trx_num  last_4day_trx_sum  napi_betevo  \\\n",
       "0            2     1.0                1.0               1.50     4.879347   \n",
       "1            3     1.0                1.0               4.73     9.906382   \n",
       "2            4     1.0                1.0              80.00    25.187638   \n",
       "3            5     1.0                2.0              58.45     9.089196   \n",
       "4            6     0.0                0.0               0.00     8.461658   \n",
       "\n",
       "   4w_p_0  4w_p_1  4w_p_2  4w_p_3  4w_p_4  4w_p_5  4w_p_6  \n",
       "0    0.00    0.25    0.50    0.75    0.25    0.75     0.0  \n",
       "1    0.75    0.25    0.25    0.00    0.50    0.00     1.0  \n",
       "2    0.25    0.50    0.25    0.00    0.25    0.25     0.0  \n",
       "3    0.00    0.50    0.25    0.25    0.00    0.50     0.0  \n",
       "4    0.00    1.00    0.00    0.00    0.00    0.00     0.0  "
      ]
     },
     "execution_count": 43,
     "metadata": {},
     "output_type": "execute_result"
    }
   ],
   "source": [
    "def adathalmaz_generalo (iu_nap, df):\n",
    "    #célváltozó legyártása\n",
    "    celnap1= df [df['daynum']>iu_nap ]\n",
    "    celnap2= celnap1[ celnap1['daynum']<=iu_nap + 4]\n",
    "    bejott_userek= pd.DataFrame({ 'customer_id':celnap2['customer_id'].unique() })\n",
    "    bejott_userek['target']=1\n",
    "    ujdf=pd.DataFrame({'customer_id': df['customer_id'].unique() })\n",
    "    #print(len(ujdf))\n",
    "    ujdf=ujdf.merge(bejott_userek, on='customer_id', how='left')\n",
    "    ujdf['target']=ujdf['target'].fillna(0)\n",
    "    \n",
    "    #bemeno változók\n",
    "    #múlt héten ugyanekkor hány tranzakció volt\n",
    "    ujdf=stat_hozzaado(ujdf,\"last_4day_trx_num\", 'count', iu_nap-6, iu_nap-2, df)\n",
    "    ujdf=stat_hozzaado(ujdf,\"last_4day_trx_sum\",\n",
    "                       'sum',iu_nap-6,iu_nap-2,df)\n",
    "    ujdf=stat_hozzaado(ujdf,\"napi_betevo\",\n",
    "                       'sum',0,iu_nap,df)\n",
    "    ujdf[\"napi_betevo\"]=ujdf[\"napi_betevo\"]/(iu_nap-1)\n",
    "    \n",
    "    for melyik_nap in range(0,7):\n",
    "        minidf=df[df['hetnapja']==melyik_nap]\n",
    "        ujdf=stat_hozzaado(ujdf, \"4w_p_\"+str(melyik_nap), 'count', iu_nap-28, iu_nap, minidf)\n",
    "        ujdf[\"4w_p_\"+str(melyik_nap)]=ujdf[\"4w_p_\"+str(melyik_nap)] /4\n",
    "    return ujdf\n",
    "    \n",
    "#itt elmélyedek egy hibában hosszasan de nem látom  \n",
    "elemzesi_df=adathalmaz_generalo(200,odf)\n",
    "elemzesi_df.head()"
   ]
  },
  {
   "cell_type": "code",
   "execution_count": 44,
   "metadata": {
    "collapsed": true
   },
   "outputs": [],
   "source": [
    "train_df1=adathalmaz_generalo(200-6, odf)\n",
    "test_df=adathalmaz_generalo(200,odf).copy()"
   ]
  },
  {
   "cell_type": "code",
   "execution_count": null,
   "metadata": {
    "collapsed": true
   },
   "outputs": [],
   "source": [
    "all_train_df=[]\n",
    "for i in range(1,4):\n",
    "    train_df=adathalmaz_generalo(200-i*7,odf).copy()\n",
    "    all_train_df.append(train_df)\n",
    "    \n",
    "train_df=\n",
    "#itt elvesztettem\n",
    "    "
   ]
  },
  {
   "cell_type": "code",
   "execution_count": 45,
   "metadata": {
    "collapsed": true
   },
   "outputs": [],
   "source": [
    "from sklearn.linear_model import LogisticRegression\n",
    "modell= LogisticRegression()"
   ]
  },
  {
   "cell_type": "code",
   "execution_count": 47,
   "metadata": {},
   "outputs": [],
   "source": [
    "bemeno_valtozok=train_df.columns[2:]"
   ]
  },
  {
   "cell_type": "code",
   "execution_count": 48,
   "metadata": {},
   "outputs": [
    {
     "data": {
      "text/plain": [
       "LogisticRegression(C=1.0, class_weight=None, dual=False, fit_intercept=True,\n",
       "          intercept_scaling=1, max_iter=100, multi_class='ovr', n_jobs=1,\n",
       "          penalty='l2', random_state=None, solver='liblinear', tol=0.0001,\n",
       "          verbose=0, warm_start=False)"
      ]
     },
     "execution_count": 48,
     "metadata": {},
     "output_type": "execute_result"
    }
   ],
   "source": [
    "modell.fit(train_df[bemeno_valtozok], train_df['target'])"
   ]
  },
  {
   "cell_type": "code",
   "execution_count": 50,
   "metadata": {},
   "outputs": [
    {
     "data": {
      "text/plain": [
       "array([-0.81391423])"
      ]
     },
     "execution_count": 50,
     "metadata": {},
     "output_type": "execute_result"
    }
   ],
   "source": [
    "modell.intercept_\n",
    "#neki ez -1 ami aggaszt"
   ]
  },
  {
   "cell_type": "code",
   "execution_count": 51,
   "metadata": {},
   "outputs": [
    {
     "data": {
      "text/plain": [
       "array([[ 3.53191435e-02,  1.98334134e-03,  2.81907188e-02,\n",
       "        -1.75073395e-01, -2.45536387e-02, -3.32816019e-01,\n",
       "         1.33213193e+00,  1.82353418e+00,  2.07635824e+00,\n",
       "         1.47621557e+00]])"
      ]
     },
     "execution_count": 51,
     "metadata": {},
     "output_type": "execute_result"
    }
   ],
   "source": [
    "modell.coef_\n",
    "#és ezek is mások"
   ]
  },
  {
   "cell_type": "code",
   "execution_count": 52,
   "metadata": {},
   "outputs": [
    {
     "data": {
      "text/plain": [
       "Index(['last_4day_trx_num', 'last_4day_trx_sum', 'napi_betevo', '4w_p_0',\n",
       "       '4w_p_1', '4w_p_2', '4w_p_3', '4w_p_4', '4w_p_5', '4w_p_6'],\n",
       "      dtype='object')"
      ]
     },
     "execution_count": 52,
     "metadata": {},
     "output_type": "execute_result"
    }
   ],
   "source": [
    "bemeno_valtozok"
   ]
  },
  {
   "cell_type": "code",
   "execution_count": 56,
   "metadata": {},
   "outputs": [
    {
     "data": {
      "text/html": [
       "<div>\n",
       "<style scoped>\n",
       "    .dataframe tbody tr th:only-of-type {\n",
       "        vertical-align: middle;\n",
       "    }\n",
       "\n",
       "    .dataframe tbody tr th {\n",
       "        vertical-align: top;\n",
       "    }\n",
       "\n",
       "    .dataframe thead th {\n",
       "        text-align: right;\n",
       "    }\n",
       "</style>\n",
       "<table border=\"1\" class=\"dataframe\">\n",
       "  <thead>\n",
       "    <tr style=\"text-align: right;\">\n",
       "      <th></th>\n",
       "      <th>customer_id</th>\n",
       "      <th>target</th>\n",
       "      <th>last_4day_trx_num</th>\n",
       "      <th>last_4day_trx_sum</th>\n",
       "      <th>napi_betevo</th>\n",
       "      <th>4w_p_0</th>\n",
       "      <th>4w_p_1</th>\n",
       "      <th>4w_p_2</th>\n",
       "      <th>4w_p_3</th>\n",
       "      <th>4w_p_4</th>\n",
       "      <th>4w_p_5</th>\n",
       "      <th>4w_p_6</th>\n",
       "      <th>p0</th>\n",
       "      <th>p1</th>\n",
       "    </tr>\n",
       "  </thead>\n",
       "  <tbody>\n",
       "    <tr>\n",
       "      <th>0</th>\n",
       "      <td>2</td>\n",
       "      <td>1.0</td>\n",
       "      <td>1.0</td>\n",
       "      <td>1.50</td>\n",
       "      <td>4.879347</td>\n",
       "      <td>0.00</td>\n",
       "      <td>0.25</td>\n",
       "      <td>0.50</td>\n",
       "      <td>0.75</td>\n",
       "      <td>0.25</td>\n",
       "      <td>0.75</td>\n",
       "      <td>0.0</td>\n",
       "      <td>0.099604</td>\n",
       "      <td>0.900396</td>\n",
       "    </tr>\n",
       "    <tr>\n",
       "      <th>1</th>\n",
       "      <td>3</td>\n",
       "      <td>1.0</td>\n",
       "      <td>1.0</td>\n",
       "      <td>4.73</td>\n",
       "      <td>9.906382</td>\n",
       "      <td>0.75</td>\n",
       "      <td>0.25</td>\n",
       "      <td>0.25</td>\n",
       "      <td>0.00</td>\n",
       "      <td>0.50</td>\n",
       "      <td>0.00</td>\n",
       "      <td>1.0</td>\n",
       "      <td>0.157441</td>\n",
       "      <td>0.842559</td>\n",
       "    </tr>\n",
       "    <tr>\n",
       "      <th>2</th>\n",
       "      <td>4</td>\n",
       "      <td>1.0</td>\n",
       "      <td>1.0</td>\n",
       "      <td>80.00</td>\n",
       "      <td>25.187638</td>\n",
       "      <td>0.25</td>\n",
       "      <td>0.50</td>\n",
       "      <td>0.25</td>\n",
       "      <td>0.00</td>\n",
       "      <td>0.25</td>\n",
       "      <td>0.25</td>\n",
       "      <td>0.0</td>\n",
       "      <td>0.283767</td>\n",
       "      <td>0.716233</td>\n",
       "    </tr>\n",
       "    <tr>\n",
       "      <th>3</th>\n",
       "      <td>5</td>\n",
       "      <td>1.0</td>\n",
       "      <td>2.0</td>\n",
       "      <td>58.45</td>\n",
       "      <td>9.089196</td>\n",
       "      <td>0.00</td>\n",
       "      <td>0.50</td>\n",
       "      <td>0.25</td>\n",
       "      <td>0.25</td>\n",
       "      <td>0.00</td>\n",
       "      <td>0.50</td>\n",
       "      <td>0.0</td>\n",
       "      <td>0.288104</td>\n",
       "      <td>0.711896</td>\n",
       "    </tr>\n",
       "    <tr>\n",
       "      <th>4</th>\n",
       "      <td>6</td>\n",
       "      <td>0.0</td>\n",
       "      <td>0.0</td>\n",
       "      <td>0.00</td>\n",
       "      <td>8.461658</td>\n",
       "      <td>0.00</td>\n",
       "      <td>1.00</td>\n",
       "      <td>0.00</td>\n",
       "      <td>0.00</td>\n",
       "      <td>0.00</td>\n",
       "      <td>0.00</td>\n",
       "      <td>0.0</td>\n",
       "      <td>0.645640</td>\n",
       "      <td>0.354360</td>\n",
       "    </tr>\n",
       "  </tbody>\n",
       "</table>\n",
       "</div>"
      ],
      "text/plain": [
       "   customer_id  target  last_4day_trx_num  last_4day_trx_sum  napi_betevo  \\\n",
       "0            2     1.0                1.0               1.50     4.879347   \n",
       "1            3     1.0                1.0               4.73     9.906382   \n",
       "2            4     1.0                1.0              80.00    25.187638   \n",
       "3            5     1.0                2.0              58.45     9.089196   \n",
       "4            6     0.0                0.0               0.00     8.461658   \n",
       "\n",
       "   4w_p_0  4w_p_1  4w_p_2  4w_p_3  4w_p_4  4w_p_5  4w_p_6        p0        p1  \n",
       "0    0.00    0.25    0.50    0.75    0.25    0.75     0.0  0.099604  0.900396  \n",
       "1    0.75    0.25    0.25    0.00    0.50    0.00     1.0  0.157441  0.842559  \n",
       "2    0.25    0.50    0.25    0.00    0.25    0.25     0.0  0.283767  0.716233  \n",
       "3    0.00    0.50    0.25    0.25    0.00    0.50     0.0  0.288104  0.711896  \n",
       "4    0.00    1.00    0.00    0.00    0.00    0.00     0.0  0.645640  0.354360  "
      ]
     },
     "execution_count": 56,
     "metadata": {},
     "output_type": "execute_result"
    }
   ],
   "source": [
    "test_df['p0']=0\n",
    "test_df['p1']=0\n",
    "test_df[['p0', 'p1']]=modell.predict_proba(test_df[bemeno_valtozok])\n",
    "test_df.head()"
   ]
  },
  {
   "cell_type": "code",
   "execution_count": 57,
   "metadata": {
    "collapsed": true
   },
   "outputs": [],
   "source": [
    "from sklearn.metrics import roc_auc_score,roc_curve"
   ]
  },
  {
   "cell_type": "code",
   "execution_count": 59,
   "metadata": {},
   "outputs": [
    {
     "data": {
      "text/plain": [
       "[<matplotlib.lines.Line2D at 0x7f4df6f72e80>]"
      ]
     },
     "execution_count": 59,
     "metadata": {},
     "output_type": "execute_result"
    },
    {
     "data": {
      "image/png": "[encoded data removed]",
      "text/plain": [
       "<Figure size 432x288 with 1 Axes>"
      ]
     },
     "metadata": {},
     "output_type": "display_data"
    }
   ],
   "source": [
    "a,b,c=roc_curve(test_df['target'], test_df['p1'])\n",
    "plt.plot(a,b)\n",
    "plt.plot([0,1], [0,1], 'r--')"
   ]
  },
  {
   "cell_type": "code",
   "execution_count": 60,
   "metadata": {},
   "outputs": [
    {
     "data": {
      "text/plain": [
       "0.7249593488803423"
      ]
     },
     "execution_count": 60,
     "metadata": {},
     "output_type": "execute_result"
    }
   ],
   "source": [
    "roc_auc_score(test_df['target'], test_df['p1'])\n",
    "#neki 77 szóval stg is going on\n",
    "#nekem meg előző hét alapján 0.7249593488803423\n",
    "#ez a valszínje annak h egy random 0 és random 1 közül az 1nek a p1 értéke a nagyobb, h pont jól különböztetted meg a kettőt p1 alapjá\n",
    "\"\"\"az hogy az eleje meredeket nő azt jelenti hogy az elején még alig keveredik bele rosszul bekategórizált, és amúgy a másik szélén is ilyen\n",
    "a közepénél mereng és közd jobban\n",
    "a train df lehet ám az összes eddigi hét is, nem csak a múlt hét\"\"\""
   ]
  },
  {
   "cell_type": "code",
   "execution_count": null,
   "metadata": {
    "collapsed": true
   },
   "outputs": [],
   "source": []
  }
 ],
 "metadata": {
  "kernelspec": {
   "display_name": "Python 3.6",
   "language": "python",
   "name": "python3"
  },
  "language_info": {
   "codemirror_mode": {
    "name": "ipython",
    "version": 3
   },
   "file_extension": ".py",
   "mimetype": "text/x-python",
   "name": "python",
   "nbconvert_exporter": "python",
   "pygments_lexer": "ipython3",
   "version": "3.6.5"
  }
 },
 "nbformat": 4,
 "nbformat_minor": 2
}
